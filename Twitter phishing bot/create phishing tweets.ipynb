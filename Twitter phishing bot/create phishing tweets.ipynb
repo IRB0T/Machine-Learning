{
 "cells": [
  {
   "cell_type": "code",
   "execution_count": 1,
   "metadata": {},
   "outputs": [],
   "source": [
    "import json\n",
    "import tweepy"
   ]
  },
  {
   "cell_type": "code",
   "execution_count": 2,
   "metadata": {},
   "outputs": [],
   "source": [
    "CONSUMER_API_KEY = \"#\"\n",
    "CONSUMER_API_SECRET_KEY = \"#\"\n",
    "ACCESS_TOKEN = \"#\"\n",
    "ACCESS_TOKEN_SECRET = \"#\""
   ]
  },
  {
   "cell_type": "code",
   "execution_count": 3,
   "metadata": {},
   "outputs": [],
   "source": [
    "auth = tweepy.OAuthHandler(CONSUMER_API_KEY,CONSUMER_API_SECRET_KEY)\n",
    "auth.set_access_token(ACCESS_TOKEN,ACCESS_TOKEN_SECRET)"
   ]
  },
  {
   "cell_type": "code",
   "execution_count": 4,
   "metadata": {},
   "outputs": [],
   "source": [
    "api = tweepy.API(auth,wait_on_rate_limit=True,wait_on_rate_limit_notify=True, compression=True)"
   ]
  },
  {
   "cell_type": "code",
   "execution_count": 6,
   "metadata": {},
   "outputs": [],
   "source": [
    "user_id = \"Fact\""
   ]
  },
  {
   "cell_type": "code",
   "execution_count": 7,
   "metadata": {},
   "outputs": [],
   "source": [
    "count = 100\n",
    "user_tweets = api.user_timeline(screen_name=user_id,count=count,tweet_mode=\"extended\")"
   ]
  },
  {
   "cell_type": "code",
   "execution_count": 9,
   "metadata": {},
   "outputs": [],
   "source": [
    "data = []\n",
    "for tweet in user_tweets:\n",
    "    data.append(tweet.full_text)\n",
    "all_tweets_text = \". \".join(data)"
   ]
  },
  {
   "cell_type": "code",
   "execution_count": 18,
   "metadata": {},
   "outputs": [
    {
     "data": {
      "text/plain": [
       "'o'"
      ]
     },
     "execution_count": 18,
     "metadata": {},
     "output_type": "execute_result"
    }
   ],
   "source": [
    "all_tweets_text"
   ]
  },
  {
   "cell_type": "code",
   "execution_count": 12,
   "metadata": {},
   "outputs": [],
   "source": [
    "import re"
   ]
  },
  {
   "cell_type": "code",
   "execution_count": 27,
   "metadata": {},
   "outputs": [],
   "source": [
    "def change_urls(s,new_url):\n",
    "    new_text = re.sub(\n",
    "        \"http[s]?://(?:[a-zA-Z]|[0-9]|[$-_@.&+]|[!*\\(\\), ]|(?:%[0-9a-fA-F][0-9a-fA-F]))+\",\n",
    "        \" \" + new_url + \" \",\n",
    "        s,    \n",
    "    )\n",
    "    return new_text"
   ]
  },
  {
   "cell_type": "code",
   "execution_count": 16,
   "metadata": {},
   "outputs": [],
   "source": [
    "phishing_links = \"abc.xyz\""
   ]
  },
  {
   "cell_type": "code",
   "execution_count": 28,
   "metadata": {},
   "outputs": [],
   "source": [
    "new_tweets = change_urls(all_tweets_text,phishing_links)"
   ]
  },
  {
   "cell_type": "code",
   "execution_count": 30,
   "metadata": {},
   "outputs": [
    {
     "data": {
      "text/plain": [
       "\"Got Acne? You Must Eat These Foods -  abc.xyz ’t Know About Cats...  abc.xyz “I am thankful for all of those who said, “No” to me. It’s because of them, I’m doing it myself.” - Albert Einstein. 8 Things You Are Probably Doing Wrong Every Day...  abc.xyz ’s an egg.. Anyone can apply to be a NASA astronaut — all you need are advanced degrees in biology, science, or math and 1000 hours of jet piloting.. 10 Ridiculously Expensive Things Owned By North Korea Leader Kim Jong Un...  abc.xyz ’t compare yourself with anyone in this world. If you do so, you are insulting yourself - Bill Gates. Vin Diesel’s name is an anagram for “I end lives.”. The shocking truth about bread. 8 things that happen to you when you stop eating it...  abc.xyz ’ll Ever Read About...  abc.xyz ’re actually rewiring your brain to be calmer and more loving.. Teenage years are considered to be the best and worst years of a person's life.. Nine Super Foods You Need to Build Muscle and Lose Fat...  abc.xyz ’t exist. Now, some of them are among the most recognizable cities in the world...  abc.xyz #5 is shocking!  abc.xyz ’t do the trick anymore? Try some of these 10 strongest alcoholic drinks in the world...  abc.xyz ’t settle for a crappy job, crappy friends or a crappy significant other.. When in pain, swearing can raise your pain tolerance due to the release of Enkephalin which can act as a natural opioid.. 7 Things That Will Happen When You Start Doing Planks...  abc.xyz ’s called “cute aggression”.. When Kylie Jenner said she no longer used Snapchat, its market value dropped by roughly $1.5 billion.. 10 Crazy Things You Didn't Know About Burger King's Famous Whopper...  abc.xyz \""
      ]
     },
     "execution_count": 30,
     "metadata": {},
     "output_type": "execute_result"
    }
   ],
   "source": [
    "new_tweets"
   ]
  },
  {
   "cell_type": "code",
   "execution_count": 31,
   "metadata": {},
   "outputs": [],
   "source": [
    "import markovify"
   ]
  },
  {
   "cell_type": "code",
   "execution_count": 32,
   "metadata": {},
   "outputs": [],
   "source": [
    "model = markovify.Text(new_tweets)"
   ]
  },
  {
   "cell_type": "code",
   "execution_count": 42,
   "metadata": {},
   "outputs": [],
   "source": [
    "count = 0\n",
    "new_tweets_list = []\n",
    "while count < 4:\n",
    "    tweet = model.make_short_sentence(260)\n",
    "    if phishing_links in tweet and tweet not in new_tweets_list:\n",
    "        new_tweets_list.append(tweet)\n",
    "        count += 1"
   ]
  },
  {
   "cell_type": "code",
   "execution_count": 43,
   "metadata": {},
   "outputs": [
    {
     "name": "stdout",
     "output_type": "stream",
     "text": [
      "abc.xyz ’re actually rewiring your brain to be the best and worst years of a person's life..\n",
      "abc.xyz ’t Know About Burger King's Famous Whopper...\n",
      "You Must Eat These Foods - abc.xyz ’t compare yourself with anyone in this world.\n",
      "You Must Eat These Foods - abc.xyz ’t settle for a crappy significant other..\n"
     ]
    }
   ],
   "source": [
    "for i in new_tweets_list:\n",
    "    print(i)"
   ]
  }
 ],
 "metadata": {
  "kernelspec": {
   "display_name": "Python 3",
   "language": "python",
   "name": "python3"
  },
  "language_info": {
   "codemirror_mode": {
    "name": "ipython",
    "version": 3
   },
   "file_extension": ".py",
   "mimetype": "text/x-python",
   "name": "python",
   "nbconvert_exporter": "python",
   "pygments_lexer": "ipython3",
   "version": "3.7.6"
  }
 },
 "nbformat": 4,
 "nbformat_minor": 4
}
